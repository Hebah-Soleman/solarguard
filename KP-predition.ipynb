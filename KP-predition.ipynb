{
 "cells": [
  {
   "cell_type": "code",
   "execution_count": 1,
   "metadata": {
    "execution": {
     "iopub.execute_input": "2023-10-06T16:23:42.939476Z",
     "iopub.status.busy": "2023-10-06T16:23:42.939059Z",
     "iopub.status.idle": "2023-10-06T16:23:44.958833Z",
     "shell.execute_reply": "2023-10-06T16:23:44.958020Z",
     "shell.execute_reply.started": "2023-10-06T16:23:42.939444Z"
    },
    "id": "f9S1sQHwsbbE"
   },
   "outputs": [],
   "source": [
    "import os\n",
    "import torch\n",
    "import torch.nn as nn\n",
    "import torch.nn.functional as F\n",
    "import torch.optim as optim\n",
    "import numpy as np\n",
    "import matplotlib.pyplot as plt\n",
    "import pandas as pd\n",
    "import torchvision.transforms as transforms\n",
    "import imageio as Image\n",
    "from torchvision.utils import make_grid\n",
    "from torch.utils.data import Dataset, DataLoader\n",
    "from torch.utils.data import TensorDataset, DataLoader"
   ]
  },
  {
   "cell_type": "code",
   "execution_count": 2,
   "metadata": {
    "scrolled": false
   },
   "outputs": [],
   "source": [
    "df = pd.read_csv(\"data.csv\")"
   ]
  },
  {
   "cell_type": "code",
   "execution_count": 3,
   "metadata": {},
   "outputs": [],
   "source": [
    "df[['date_part', 'time_part']] = df['Timestamp   '].str.split(' ', 1, expand=True)"
   ]
  },
  {
   "cell_type": "code",
   "execution_count": 4,
   "metadata": {
    "scrolled": true
   },
   "outputs": [
    {
     "data": {
      "text/html": [
       "<div>\n",
       "<style scoped>\n",
       "    .dataframe tbody tr th:only-of-type {\n",
       "        vertical-align: middle;\n",
       "    }\n",
       "\n",
       "    .dataframe tbody tr th {\n",
       "        vertical-align: top;\n",
       "    }\n",
       "\n",
       "    .dataframe thead th {\n",
       "        text-align: right;\n",
       "    }\n",
       "</style>\n",
       "<table border=\"1\" class=\"dataframe\">\n",
       "  <thead>\n",
       "    <tr style=\"text-align: right;\">\n",
       "      <th></th>\n",
       "      <th>Timestamp</th>\n",
       "      <th>Source</th>\n",
       "      <th>Bt-med</th>\n",
       "      <th>Bt-min</th>\n",
       "      <th>Bt-max</th>\n",
       "      <th>Bx-med</th>\n",
       "      <th>Bx-min</th>\n",
       "      <th>Bx-max</th>\n",
       "      <th>By-med</th>\n",
       "      <th>By-min</th>\n",
       "      <th>...</th>\n",
       "      <th>Dens-min</th>\n",
       "      <th>Dens-max</th>\n",
       "      <th>Speed-med</th>\n",
       "      <th>Speed-min</th>\n",
       "      <th>Speed-max</th>\n",
       "      <th>Temp-med</th>\n",
       "      <th>Temp-min</th>\n",
       "      <th>Temp-max</th>\n",
       "      <th>date_part</th>\n",
       "      <th>time_part</th>\n",
       "    </tr>\n",
       "  </thead>\n",
       "  <tbody>\n",
       "    <tr>\n",
       "      <th>0</th>\n",
       "      <td>9/9/2023 0:00</td>\n",
       "      <td>1</td>\n",
       "      <td>5.78</td>\n",
       "      <td>5.60</td>\n",
       "      <td>6.07</td>\n",
       "      <td>4.63</td>\n",
       "      <td>3.95</td>\n",
       "      <td>5.21</td>\n",
       "      <td>-2.27</td>\n",
       "      <td>-4.10</td>\n",
       "      <td>...</td>\n",
       "      <td>0.71</td>\n",
       "      <td>1.91</td>\n",
       "      <td>402.1</td>\n",
       "      <td>328.9</td>\n",
       "      <td>407.1</td>\n",
       "      <td>54427</td>\n",
       "      <td>5000</td>\n",
       "      <td>81376</td>\n",
       "      <td>9/9/2023</td>\n",
       "      <td>0:00</td>\n",
       "    </tr>\n",
       "    <tr>\n",
       "      <th>1</th>\n",
       "      <td>9/9/2023 0:30</td>\n",
       "      <td>1</td>\n",
       "      <td>5.84</td>\n",
       "      <td>5.60</td>\n",
       "      <td>6.04</td>\n",
       "      <td>4.90</td>\n",
       "      <td>3.94</td>\n",
       "      <td>5.29</td>\n",
       "      <td>-2.86</td>\n",
       "      <td>-4.26</td>\n",
       "      <td>...</td>\n",
       "      <td>0.62</td>\n",
       "      <td>1.94</td>\n",
       "      <td>402.8</td>\n",
       "      <td>330.8</td>\n",
       "      <td>411.2</td>\n",
       "      <td>47657</td>\n",
       "      <td>6116</td>\n",
       "      <td>124309</td>\n",
       "      <td>9/9/2023</td>\n",
       "      <td>0:30</td>\n",
       "    </tr>\n",
       "    <tr>\n",
       "      <th>2</th>\n",
       "      <td>9/9/2023 1:00</td>\n",
       "      <td>1</td>\n",
       "      <td>5.68</td>\n",
       "      <td>5.59</td>\n",
       "      <td>6.02</td>\n",
       "      <td>3.41</td>\n",
       "      <td>2.25</td>\n",
       "      <td>5.20</td>\n",
       "      <td>-1.66</td>\n",
       "      <td>-4.50</td>\n",
       "      <td>...</td>\n",
       "      <td>1.46</td>\n",
       "      <td>3.02</td>\n",
       "      <td>378.5</td>\n",
       "      <td>366.9</td>\n",
       "      <td>402.9</td>\n",
       "      <td>85220</td>\n",
       "      <td>46291</td>\n",
       "      <td>129434</td>\n",
       "      <td>9/9/2023</td>\n",
       "      <td>1:00</td>\n",
       "    </tr>\n",
       "    <tr>\n",
       "      <th>3</th>\n",
       "      <td>9/9/2023 1:30</td>\n",
       "      <td>1</td>\n",
       "      <td>5.70</td>\n",
       "      <td>5.22</td>\n",
       "      <td>5.98</td>\n",
       "      <td>2.81</td>\n",
       "      <td>0.92</td>\n",
       "      <td>4.19</td>\n",
       "      <td>-4.40</td>\n",
       "      <td>-5.54</td>\n",
       "      <td>...</td>\n",
       "      <td>0.70</td>\n",
       "      <td>3.40</td>\n",
       "      <td>380.4</td>\n",
       "      <td>343.0</td>\n",
       "      <td>402.3</td>\n",
       "      <td>62622</td>\n",
       "      <td>13372</td>\n",
       "      <td>108784</td>\n",
       "      <td>9/9/2023</td>\n",
       "      <td>1:30</td>\n",
       "    </tr>\n",
       "    <tr>\n",
       "      <th>4</th>\n",
       "      <td>9/9/2023 2:00</td>\n",
       "      <td>1</td>\n",
       "      <td>5.83</td>\n",
       "      <td>5.21</td>\n",
       "      <td>5.97</td>\n",
       "      <td>3.58</td>\n",
       "      <td>1.22</td>\n",
       "      <td>4.03</td>\n",
       "      <td>-2.66</td>\n",
       "      <td>-4.51</td>\n",
       "      <td>...</td>\n",
       "      <td>0.92</td>\n",
       "      <td>3.38</td>\n",
       "      <td>385.2</td>\n",
       "      <td>376.3</td>\n",
       "      <td>401.0</td>\n",
       "      <td>59709</td>\n",
       "      <td>23345</td>\n",
       "      <td>109656</td>\n",
       "      <td>9/9/2023</td>\n",
       "      <td>2:00</td>\n",
       "    </tr>\n",
       "  </tbody>\n",
       "</table>\n",
       "<p>5 rows × 31 columns</p>\n",
       "</div>"
      ],
      "text/plain": [
       "    Timestamp             Source      Bt-med      Bt-min      Bt-max     \\\n",
       "0  9/9/2023 0:00                1        5.78          5.60        6.07   \n",
       "1  9/9/2023 0:30                1        5.84          5.60        6.04   \n",
       "2  9/9/2023 1:00                1        5.68          5.59        6.02   \n",
       "3  9/9/2023 1:30                1        5.70          5.22        5.98   \n",
       "4  9/9/2023 2:00                1        5.83          5.21        5.97   \n",
       "\n",
       "    Bx-med      Bx-min      Bx-max      By-med      By-min    ...   Dens-min   \\\n",
       "0        4.63       3.95        5.21       -2.27       -4.10  ...        0.71   \n",
       "1        4.90       3.94        5.29       -2.86       -4.26  ...        0.62   \n",
       "2        3.41       2.25        5.20       -1.66       -4.50  ...        1.46   \n",
       "3        2.81       0.92        4.19       -4.40       -5.54  ...        0.70   \n",
       "4        3.58       1.22        4.03       -2.66       -4.51  ...        0.92   \n",
       "\n",
       "    Dens-max   Speed-med   Speed-min   Speed-max    Temp-med    Temp-min   \\\n",
       "0       1.91        402.1      328.9        407.1        54427       5000   \n",
       "1       1.94        402.8      330.8        411.2        47657       6116   \n",
       "2       3.02        378.5      366.9        402.9        85220      46291   \n",
       "3       3.40        380.4      343.0        402.3        62622      13372   \n",
       "4       3.38        385.2      376.3        401.0        59709      23345   \n",
       "\n",
       "    Temp-max  date_part  time_part  \n",
       "0      81376   9/9/2023       0:00  \n",
       "1     124309   9/9/2023       0:30  \n",
       "2     129434   9/9/2023       1:00  \n",
       "3     108784   9/9/2023       1:30  \n",
       "4     109656   9/9/2023       2:00  \n",
       "\n",
       "[5 rows x 31 columns]"
      ]
     },
     "execution_count": 4,
     "metadata": {},
     "output_type": "execute_result"
    }
   ],
   "source": [
    "df.head()"
   ]
  },
  {
   "cell_type": "code",
   "execution_count": 5,
   "metadata": {},
   "outputs": [],
   "source": [
    "df['time_part'] = pd.to_datetime(df['time_part'], format='%H:%M').dt.time"
   ]
  },
  {
   "cell_type": "code",
   "execution_count": 6,
   "metadata": {},
   "outputs": [],
   "source": [
    "filtered_df = df[df['time_part'].apply(lambda x: x.hour % 3 == 0 and x.minute == 0)]"
   ]
  },
  {
   "cell_type": "code",
   "execution_count": 7,
   "metadata": {},
   "outputs": [
    {
     "name": "stdout",
     "output_type": "stream",
     "text": [
      "<class 'pandas.core.frame.DataFrame'>\n",
      "Int64Index: 221 entries, 0 to 1320\n",
      "Data columns (total 31 columns):\n",
      " #   Column           Non-Null Count  Dtype  \n",
      "---  ------           --------------  -----  \n",
      " 0   Timestamp        221 non-null    object \n",
      " 1           Source   221 non-null    int64  \n",
      " 2      Bt-med        221 non-null    float64\n",
      " 3      Bt-min        221 non-null    float64\n",
      " 4    Bt-max          221 non-null    float64\n",
      " 5    Bx-med          221 non-null    float64\n",
      " 6    Bx-min          221 non-null    float64\n",
      " 7     Bx-max         221 non-null    float64\n",
      " 8     By-med         221 non-null    float64\n",
      " 9     By-min         221 non-null    float64\n",
      " 10    By-max         221 non-null    float64\n",
      " 11     Bz-med        221 non-null    float64\n",
      " 12     Bz-min        221 non-null    float64\n",
      " 13      Bz-max       221 non-null    float64\n",
      " 14   Phi-mean        221 non-null    float64\n",
      " 15     Phi-min       221 non-null    float64\n",
      " 16    Phi-max        221 non-null    float64\n",
      " 17   Theta-med       221 non-null    float64\n",
      " 18  Theta-min        221 non-null    float64\n",
      " 19  Theta-max        221 non-null    float64\n",
      " 20   Dens-med        221 non-null    float64\n",
      " 21   Dens-min        221 non-null    float64\n",
      " 22   Dens-max        221 non-null    float64\n",
      " 23   Speed-med       221 non-null    float64\n",
      " 24  Speed-min        221 non-null    float64\n",
      " 25   Speed-max       221 non-null    float64\n",
      " 26   Temp-med        221 non-null    int64  \n",
      " 27  Temp-min         221 non-null    int64  \n",
      " 28   Temp-max        221 non-null    int64  \n",
      " 29  date_part        221 non-null    object \n",
      " 30  time_part        221 non-null    object \n",
      "dtypes: float64(24), int64(4), object(3)\n",
      "memory usage: 55.2+ KB\n"
     ]
    }
   ],
   "source": [
    "filtered_df.info()"
   ]
  },
  {
   "cell_type": "code",
   "execution_count": 8,
   "metadata": {},
   "outputs": [],
   "source": [
    "kp = pd.read_csv(\"KP.csv\")"
   ]
  },
  {
   "cell_type": "code",
   "execution_count": 9,
   "metadata": {},
   "outputs": [],
   "source": [
    "def string_to_float_array(string_value):\n",
    "    number_strings = string_value.split()\n",
    "    return [float(num_str) for num_str in number_strings]\n",
    "\n",
    "# Apply the function to the DataFrame column\n",
    "kp['K-indices'] = kp['  K-indices'].apply(string_to_float_array)"
   ]
  },
  {
   "cell_type": "code",
   "execution_count": 10,
   "metadata": {},
   "outputs": [],
   "source": [
    "kp = kp.iloc[2:]"
   ]
  },
  {
   "cell_type": "code",
   "execution_count": 11,
   "metadata": {},
   "outputs": [],
   "source": [
    "kp_array = np.concatenate(kp['K-indices'].values)\n",
    "kp_array = kp_array.tolist()"
   ]
  },
  {
   "cell_type": "code",
   "execution_count": 12,
   "metadata": {},
   "outputs": [
    {
     "data": {
      "text/plain": [
       "224"
      ]
     },
     "execution_count": 12,
     "metadata": {},
     "output_type": "execute_result"
    }
   ],
   "source": [
    "len(kp_array)"
   ]
  },
  {
   "cell_type": "code",
   "execution_count": 13,
   "metadata": {
    "scrolled": true
   },
   "outputs": [
    {
     "name": "stderr",
     "output_type": "stream",
     "text": [
      "C:\\Users\\hebah\\AppData\\Local\\Temp\\ipykernel_16660\\275315848.py:1: SettingWithCopyWarning: \n",
      "A value is trying to be set on a copy of a slice from a DataFrame.\n",
      "Try using .loc[row_indexer,col_indexer] = value instead\n",
      "\n",
      "See the caveats in the documentation: https://pandas.pydata.org/pandas-docs/stable/user_guide/indexing.html#returning-a-view-versus-a-copy\n",
      "  filtered_df['KP'] = kp_array[:-3]\n"
     ]
    }
   ],
   "source": [
    "filtered_df['KP'] = kp_array[:-3]"
   ]
  },
  {
   "cell_type": "code",
   "execution_count": 14,
   "metadata": {},
   "outputs": [],
   "source": [
    "filtered_df.to_csv(\"kp_data.csv\", index=False)\n"
   ]
  },
  {
   "cell_type": "code",
   "execution_count": 16,
   "metadata": {},
   "outputs": [],
   "source": [
    "formated_data = pd.read_csv(\"kp_data.csv\")\n",
    "formated_data.to_csv(\"kp_data.csv\", index=False)"
   ]
  },
  {
   "cell_type": "markdown",
   "metadata": {},
   "source": [
    "# Modeling"
   ]
  },
  {
   "cell_type": "code",
   "execution_count": 19,
   "metadata": {},
   "outputs": [],
   "source": [
    "kp_data = pd.read_csv(\"kp_data.csv\")"
   ]
  },
  {
   "cell_type": "code",
   "execution_count": 20,
   "metadata": {},
   "outputs": [
    {
     "data": {
      "text/plain": [
       "Index(['Timestamp', 'Source', 'Bt-med', 'Bt-min', 'Bt-max', 'Bx-med', 'Bx-min',\n",
       "       'Bx-max', 'By-med', 'By-min', 'By-max', 'Bz-med', 'Bz-min', 'Bz-max',\n",
       "       'Phi-mean', 'Phi-min', 'Phi-max', 'Theta-med', 'Theta-min', 'Theta-max',\n",
       "       'Dens-med', 'Dens-min', 'Dens-max', 'Speed-med', 'Speed-min',\n",
       "       'Speed-max', 'Temp-med', 'Temp-min', 'Temp-max', 'date_part',\n",
       "       'time_part', 'KP'],\n",
       "      dtype='object')"
      ]
     },
     "execution_count": 20,
     "metadata": {},
     "output_type": "execute_result"
    }
   ],
   "source": [
    "kp_data.columns"
   ]
  },
  {
   "cell_type": "code",
   "execution_count": 21,
   "metadata": {},
   "outputs": [],
   "source": [
    "kp_data = kp_data[['Source', 'Bt-med', 'Bt-min', 'Bt-max', 'Bx-med', 'Bx-min',\n",
    "       'Bx-max', 'By-med', 'By-min', 'By-max', 'Bz-med', 'Bz-min', 'Bz-max',\n",
    "       'Phi-mean', 'Phi-min', 'Phi-max', 'Theta-med', 'Theta-min', 'Theta-max',\n",
    "       'Dens-med', 'Dens-min', 'Dens-max', 'Speed-med', 'Speed-min',\n",
    "       'Speed-max', 'Temp-med', 'Temp-min', 'Temp-max', 'KP']]"
   ]
  },
  {
   "cell_type": "code",
   "execution_count": 22,
   "metadata": {},
   "outputs": [],
   "source": [
    "y = kp_data['KP']\n",
    "X = kp_data.drop(columns=['KP'])"
   ]
  },
  {
   "cell_type": "code",
   "execution_count": 26,
   "metadata": {},
   "outputs": [],
   "source": [
    "from sklearn.model_selection import train_test_split\n",
    "\n",
    "X_train, X_test, y_train, y_test = train_test_split(X, y, test_size=0.2, random_state=42)"
   ]
  },
  {
   "cell_type": "code",
   "execution_count": 27,
   "metadata": {},
   "outputs": [
    {
     "data": {
      "text/plain": [
       "LinearRegression()"
      ]
     },
     "execution_count": 27,
     "metadata": {},
     "output_type": "execute_result"
    }
   ],
   "source": [
    "from sklearn.linear_model import LinearRegression\n",
    "\n",
    "# Create and fit a Linear Regression model\n",
    "model = LinearRegression()\n",
    "model.fit(X_train, y_train)"
   ]
  },
  {
   "cell_type": "code",
   "execution_count": 28,
   "metadata": {},
   "outputs": [
    {
     "name": "stdout",
     "output_type": "stream",
     "text": [
      "Mean Squared Error: 0.7179218992038141\n",
      "R-squared: 0.3722116437266312\n"
     ]
    }
   ],
   "source": [
    "from sklearn.metrics import mean_squared_error, r2_score\n",
    "\n",
    "# Make predictions on the testing set\n",
    "y_pred = model.predict(X_test)\n",
    "\n",
    "# Calculate Mean Squared Error and R-squared\n",
    "mse = mean_squared_error(y_test, y_pred)\n",
    "r2 = r2_score(y_test, y_pred)\n",
    "\n",
    "print(f\"Mean Squared Error: {mse}\")\n",
    "print(f\"R-squared: {r2}\")"
   ]
  }
 ],
 "metadata": {
  "accelerator": "GPU",
  "colab": {
   "gpuType": "T4",
   "provenance": []
  },
  "kernelspec": {
   "display_name": "Python 3 (ipykernel)",
   "language": "python",
   "name": "python3"
  },
  "language_info": {
   "codemirror_mode": {
    "name": "ipython",
    "version": 3
   },
   "file_extension": ".py",
   "mimetype": "text/x-python",
   "name": "python",
   "nbconvert_exporter": "python",
   "pygments_lexer": "ipython3",
   "version": "3.9.12"
  }
 },
 "nbformat": 4,
 "nbformat_minor": 4
}
